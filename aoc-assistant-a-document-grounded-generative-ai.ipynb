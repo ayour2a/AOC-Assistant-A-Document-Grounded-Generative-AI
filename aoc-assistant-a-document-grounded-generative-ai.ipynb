{
 "cells": [
  {
   "cell_type": "code",
   "execution_count": 1,
   "id": "03811d71",
   "metadata": {
    "execution": {
     "iopub.execute_input": "2025-04-09T17:55:24.514935Z",
     "iopub.status.busy": "2025-04-09T17:55:24.514567Z",
     "iopub.status.idle": "2025-04-09T17:55:33.618643Z",
     "shell.execute_reply": "2025-04-09T17:55:33.617381Z"
    },
    "papermill": {
     "duration": 9.110267,
     "end_time": "2025-04-09T17:55:33.620684",
     "exception": false,
     "start_time": "2025-04-09T17:55:24.510417",
     "status": "completed"
    },
    "tags": []
   },
   "outputs": [
    {
     "name": "stdout",
     "output_type": "stream",
     "text": [
      "\u001b[2K   \u001b[90m━━━━━━━━━━━━━━━━━━━━━━━━━━━━━━━━━━━━━━━━\u001b[0m \u001b[32m144.7/144.7 kB\u001b[0m \u001b[31m5.7 MB/s\u001b[0m eta \u001b[36m0:00:00\u001b[0m\r\n",
      "\u001b[2K   \u001b[90m━━━━━━━━━━━━━━━━━━━━━━━━━━━━━━━━━━━━━━━━\u001b[0m \u001b[32m100.9/100.9 kB\u001b[0m \u001b[31m5.7 MB/s\u001b[0m eta \u001b[36m0:00:00\u001b[0m\r\n",
      "\u001b[?25h"
     ]
    }
   ],
   "source": [
    "!pip uninstall -qqy jupyterlab  # Remove unused conflicting packages\n",
    "!pip install -U -q \"google-genai==1.7.0\""
   ]
  },
  {
   "cell_type": "code",
   "execution_count": 2,
   "id": "358edf98",
   "metadata": {
    "execution": {
     "iopub.execute_input": "2025-04-09T17:55:33.627535Z",
     "iopub.status.busy": "2025-04-09T17:55:33.627113Z",
     "iopub.status.idle": "2025-04-09T17:55:33.837640Z",
     "shell.execute_reply": "2025-04-09T17:55:33.836524Z"
    },
    "papermill": {
     "duration": 0.216036,
     "end_time": "2025-04-09T17:55:33.839596",
     "exception": false,
     "start_time": "2025-04-09T17:55:33.623560",
     "status": "completed"
    },
    "tags": []
   },
   "outputs": [],
   "source": [
    "import os\n",
    "from kaggle_secrets import UserSecretsClient\n",
    "\n",
    "GOOGLE_API_KEY = UserSecretsClient().get_secret(\"GOOGLE_API_KEY\")\n",
    "os.environ[\"GOOGLE_API_KEY\"] = GOOGLE_API_KEY"
   ]
  },
  {
   "cell_type": "code",
   "execution_count": 3,
   "id": "92890af9",
   "metadata": {
    "execution": {
     "iopub.execute_input": "2025-04-09T17:55:33.845873Z",
     "iopub.status.busy": "2025-04-09T17:55:33.845536Z",
     "iopub.status.idle": "2025-04-09T17:55:36.403455Z",
     "shell.execute_reply": "2025-04-09T17:55:36.402319Z"
    },
    "papermill": {
     "duration": 2.56335,
     "end_time": "2025-04-09T17:55:36.405569",
     "exception": false,
     "start_time": "2025-04-09T17:55:33.842219",
     "status": "completed"
    },
    "tags": []
   },
   "outputs": [],
   "source": [
    "import os\n",
    "import time\n",
    "from google.generativeai import configure, GenerativeModel\n",
    "from pypdf import PdfReader\n",
    "from typing import Optional\n"
   ]
  },
  {
   "cell_type": "code",
   "execution_count": 4,
   "id": "91c0564f",
   "metadata": {
    "execution": {
     "iopub.execute_input": "2025-04-09T17:55:36.412334Z",
     "iopub.status.busy": "2025-04-09T17:55:36.411774Z",
     "iopub.status.idle": "2025-04-09T17:55:36.416419Z",
     "shell.execute_reply": "2025-04-09T17:55:36.414817Z"
    },
    "papermill": {
     "duration": 0.00995,
     "end_time": "2025-04-09T17:55:36.418266",
     "exception": false,
     "start_time": "2025-04-09T17:55:36.408316",
     "status": "completed"
    },
    "tags": []
   },
   "outputs": [],
   "source": [
    "# # Configure API\n",
    "# configure(api_key=os.environ['GOOGLE_API_KEY'])  # Or your actual key"
   ]
  },
  {
   "cell_type": "code",
   "execution_count": 5,
   "id": "4977e483",
   "metadata": {
    "execution": {
     "iopub.execute_input": "2025-04-09T17:55:36.425238Z",
     "iopub.status.busy": "2025-04-09T17:55:36.424859Z",
     "iopub.status.idle": "2025-04-09T17:55:36.429679Z",
     "shell.execute_reply": "2025-04-09T17:55:36.428563Z"
    },
    "papermill": {
     "duration": 0.010395,
     "end_time": "2025-04-09T17:55:36.431512",
     "exception": false,
     "start_time": "2025-04-09T17:55:36.421117",
     "status": "completed"
    },
    "tags": []
   },
   "outputs": [],
   "source": [
    "# Configure with the correct API endpoint\n",
    "configure(\n",
    "    api_key=os.environ[\"GOOGLE_API_KEY\"],\n",
    "    client_options={\"api_endpoint\": \"generativelanguage.googleapis.com\"}\n",
    ")"
   ]
  },
  {
   "cell_type": "code",
   "execution_count": 6,
   "id": "d171ff7e",
   "metadata": {
    "execution": {
     "iopub.execute_input": "2025-04-09T17:55:36.437846Z",
     "iopub.status.busy": "2025-04-09T17:55:36.437532Z",
     "iopub.status.idle": "2025-04-09T17:55:43.473549Z",
     "shell.execute_reply": "2025-04-09T17:55:43.472369Z"
    },
    "papermill": {
     "duration": 7.041284,
     "end_time": "2025-04-09T17:55:43.475358",
     "exception": false,
     "start_time": "2025-04-09T17:55:36.434074",
     "status": "completed"
    },
    "tags": []
   },
   "outputs": [
    {
     "name": "stdout",
     "output_type": "stream",
     "text": [
      "Using Gemini 1.5 Pro\n",
      "\n",
      "🔍 Question: Define accounts receivable\n",
      "📝 Answer: While the provided cheat sheet mentions \"accounts receivable\" in several places (as an example of an asset, in the acid-test ratio, and regarding bad debts expense), it does *not* explicitly define the term.  It is implied to be an asset that will turn to cash within one year.\n",
      "\n",
      "\n",
      "🔍 Question: How to calculate straight-line depreciation?\n",
      "📝 Answer: This cheat sheet mentions depreciation and accumulated depreciation in the context of adjusting entries and contra accounts, but it doesn't explain how to calculate straight-line depreciation.  However, the general formula for straight-line depreciation is:\n",
      "\n",
      "(Asset Cost - Salvage Value) / Useful Life = Depreciation Expense per Period\n",
      "\n",
      "\n",
      "🔍 Question: Define accounts payable\n",
      "📝 Answer: Accounts payable is an example of a liability.  Liabilities are defined in the document as obligations and deferred revenues. Specifically, accounts payable is an example of a short-term liability or current liability meaning an obligation that will become due within one year of the balance sheet date (or the operating cycle, if longer).\n",
      "\n"
     ]
    }
   ],
   "source": [
    "class AOCAssistant:\n",
    "    def __init__(self, pdf_path: str = \"/kaggle/input/accounting-cheat-code/accounting cheat code.pdf\"):\n",
    "        \"\"\"Initialize with proper model selection and rate control\"\"\"\n",
    "        self.pdf_text = self._extract_pdf_text(pdf_path)\n",
    "        \n",
    "        # Try the latest model names\n",
    "        try:\n",
    "            self.model = GenerativeModel(\"gemini-1.5-pro-latest\")  # Newest model\n",
    "            print(\"Using Gemini 1.5 Pro\")\n",
    "        except:\n",
    "            try:\n",
    "                self.model = GenerativeModel(\"gemini-pro\")  # Fallback to 1.0\n",
    "                print(\"Using Gemini 1.0 Pro\")\n",
    "            except Exception as e:\n",
    "                raise ValueError(f\"Model initialization failed: {str(e)}\")\n",
    "        \n",
    "        self.last_call_time = 0\n",
    "        self.min_interval = 1  # 1 second between calls (more realistic than 20s)\n",
    "\n",
    "    def _extract_pdf_text(self, path: str) -> str:\n",
    "        \"\"\"Robust PDF text extraction\"\"\"\n",
    "        try:\n",
    "            reader = PdfReader(path)\n",
    "            text = []\n",
    "            for page in reader.pages:\n",
    "                page_text = page.extract_text() or \"\"\n",
    "                text.append(page_text)\n",
    "            return \"\\n\".join(text)[:20000]  # Limit to first 20k characters\n",
    "        except Exception as e:\n",
    "            raise RuntimeError(f\"PDF processing failed: {str(e)}\")\n",
    "\n",
    "    def query(self, question: str) -> str:\n",
    "        \"\"\"Improved query with better error handling\"\"\"\n",
    "        # Rate limiting\n",
    "        elapsed = time.time() - self.last_call_time\n",
    "        if elapsed < self.min_interval:\n",
    "            time.sleep(self.min_interval - elapsed)\n",
    "        \n",
    "        try:\n",
    "            self.last_call_time = time.time()\n",
    "            \n",
    "            prompt = f\"\"\"You are an expert accounting assistant. Use this document context:\n",
    "            {self.pdf_text}\n",
    "            \n",
    "            Question: {question}\n",
    "            \n",
    "            Guidelines:\n",
    "            1. Answer based on the document when possible\n",
    "            2. For calculations, provide standard formulas\n",
    "            3. If unsure, say \"Not explicitly covered in this document\"\n",
    "            \"\"\"\n",
    "            \n",
    "            response = self.model.generate_content(prompt)\n",
    "            return response.text\n",
    "            \n",
    "        except Exception as e:\n",
    "            return f\"Error: {str(e)}. Please try again.\"\n",
    "\n",
    "# Test with proper error handling\n",
    "try:\n",
    "    assistant = AOCAssistant()\n",
    "    \n",
    "    questions = [\n",
    "        \"Define accounts receivable\",\n",
    "        \"How to calculate straight-line depreciation?\",\n",
    "        \"Define accounts payable\"\n",
    "          ]\n",
    "    \n",
    "    for q in questions:\n",
    "        print(f\"\\n🔍 Question: {q}\")\n",
    "        answer = assistant.query(q)\n",
    "        print(f\"📝 Answer: {answer[:500]}{'...' if len(answer)>500 else ''}\")\n",
    "        \n",
    "except Exception as e:\n",
    "    print(f\"Initialization error: {str(e)}\")\n",
    "    print(\"Troubleshooting steps:\")\n",
    "    print(\"1. Verify GOOGLE_API_KEY is set correctly\")\n",
    "    print(\"2. Check PDF exists at specified path\")\n",
    "    print(\"3. Ensure notebook has internet access\")"
   ]
  }
 ],
 "metadata": {
  "kaggle": {
   "accelerator": "none",
   "dataSources": [
    {
     "datasetId": 7088012,
     "sourceId": 11330889,
     "sourceType": "datasetVersion"
    }
   ],
   "dockerImageVersionId": 30918,
   "isGpuEnabled": false,
   "isInternetEnabled": true,
   "language": "python",
   "sourceType": "notebook"
  },
  "kernelspec": {
   "display_name": "Python 3",
   "language": "python",
   "name": "python3"
  },
  "language_info": {
   "codemirror_mode": {
    "name": "ipython",
    "version": 3
   },
   "file_extension": ".py",
   "mimetype": "text/x-python",
   "name": "python",
   "nbconvert_exporter": "python",
   "pygments_lexer": "ipython3",
   "version": "3.10.12"
  },
  "papermill": {
   "default_parameters": {},
   "duration": 24.614326,
   "end_time": "2025-04-09T17:55:46.228111",
   "environment_variables": {},
   "exception": null,
   "input_path": "__notebook__.ipynb",
   "output_path": "__notebook__.ipynb",
   "parameters": {},
   "start_time": "2025-04-09T17:55:21.613785",
   "version": "2.6.0"
  }
 },
 "nbformat": 4,
 "nbformat_minor": 5
}
